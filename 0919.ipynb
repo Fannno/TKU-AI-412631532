{
  "nbformat": 4,
  "nbformat_minor": 0,
  "metadata": {
    "colab": {
      "provenance": [],
      "authorship_tag": "ABX9TyMaTjnhW2wEQU2Vr0bB4VKi",
      "include_colab_link": true
    },
    "kernelspec": {
      "name": "python3",
      "display_name": "Python 3"
    },
    "language_info": {
      "name": "python"
    }
  },
  "cells": [
    {
      "cell_type": "markdown",
      "metadata": {
        "id": "view-in-github",
        "colab_type": "text"
      },
      "source": [
        "<a href=\"https://colab.research.google.com/github/Fannno/TKU-AI-412631532/blob/main/0919.ipynb\" target=\"_parent\"><img src=\"https://colab.research.google.com/assets/colab-badge.svg\" alt=\"Open In Colab\"/></a>"
      ]
    },
    {
      "cell_type": "code",
      "execution_count": 1,
      "metadata": {
        "colab": {
          "base_uri": "https://localhost:8080/"
        },
        "id": "u4S4Zp_e2TcO",
        "outputId": "c7aeee99-4359-41f0-df88-2076acb09722"
      },
      "outputs": [
        {
          "output_type": "stream",
          "name": "stdout",
          "text": [
            "HI\n"
          ]
        }
      ],
      "source": [
        "print(\"HI\")"
      ]
    },
    {
      "cell_type": "code",
      "source": [
        "print(\"Hello\")"
      ],
      "metadata": {
        "colab": {
          "base_uri": "https://localhost:8080/"
        },
        "id": "KMeXG3-y2x7E",
        "outputId": "7c20ec4a-cd68-48d4-8cc4-5d654b414e66"
      },
      "execution_count": 2,
      "outputs": [
        {
          "output_type": "stream",
          "name": "stdout",
          "text": [
            "Hello\n"
          ]
        }
      ]
    },
    {
      "cell_type": "markdown",
      "source": [
        "Hi"
      ],
      "metadata": {
        "id": "uqqVSGCq3Rp1"
      }
    },
    {
      "cell_type": "code",
      "source": [],
      "metadata": {
        "id": "1tRedqp62_LD"
      },
      "execution_count": null,
      "outputs": []
    }
  ]
}